{
 "cells": [
  {
   "cell_type": "code",
   "execution_count": 1,
   "metadata": {},
   "outputs": [],
   "source": [
    "model_path = \"/home/wbm001/deeplpi/DeepLPI/output/model/v9b3-davisreg-e800_best.pth.tar\"\n",
    "test_path = \"/home/wbm001/deeplpi/data/davis/testset.csv\"\n",
    "plot_path = \"/home/wbm001/deeplpi/DeepLPI/output/plot/DeepLPI_6165_Reg_Davis/\"\n",
    "\n",
    "molembed_path = \"/home/wbm001/deeplpi/data/davis/mol.csv\"\n",
    "seqembed_path = \"/home/wbm001/deeplpi/data/davis/seq_6165.csv\"\n",
    "\n",
    "CLASSIFYBOUND = -2"
   ]
  },
  {
   "cell_type": "code",
   "execution_count": 2,
   "metadata": {},
   "outputs": [],
   "source": [
    "from torch.nn import Module\n",
    "from torch import nn\n",
    "import torch.nn.functional as F\n",
    "import torch\n",
    "\n",
    "class resBlock(nn.Module):\n",
    "    def __init__(self, in_channels, out_channels, use_conv1=False, strides=1, dropout=0.3):\n",
    "        super().__init__()\n",
    "        \n",
    "        self.process = nn.Sequential (\n",
    "            nn.Conv1d(in_channels, out_channels, kernel_size=3, stride=strides, padding=1),\n",
    "            nn.BatchNorm1d(out_channels),\n",
    "            nn.ReLU(inplace=True),\n",
    "            nn.Dropout(p=dropout),\n",
    "            nn.Conv1d(out_channels, out_channels, kernel_size=3, padding=1),\n",
    "            nn.BatchNorm1d(out_channels)\n",
    "        )\n",
    "        \n",
    "        if use_conv1:\n",
    "            self.conv1 = nn.Conv1d(in_channels, out_channels, kernel_size=1, stride=strides)\n",
    "        else:\n",
    "            self.conv1 = None\n",
    "        \n",
    "    def forward(self, x):\n",
    "        left = self.process(x)\n",
    "        right = x if self.conv1 is None else self.conv1(x)\n",
    "        \n",
    "        return F.relu(left + right)\n",
    "\n",
    "# %%\n",
    "class cnnModule(nn.Module):\n",
    "    def __init__(self, in_channel, out_channel, hidden_channel=32, dropout=0.3):\n",
    "        super().__init__()\n",
    "        \n",
    "        self.head = nn.Sequential (\n",
    "            nn.Conv1d(in_channel, hidden_channel, 7, stride=2, padding=3, bias=False),\n",
    "            nn.BatchNorm1d(hidden_channel),\n",
    "            nn.ReLU(inplace=True),\n",
    "            nn.Dropout(p=dropout),\n",
    "            nn.MaxPool1d(2)\n",
    "        )\n",
    "        \n",
    "        self.cnn = nn.Sequential (\n",
    "            resBlock(hidden_channel, out_channel, use_conv1=True, strides=1, dropout=dropout),\n",
    "            resBlock(out_channel, out_channel, strides=1, dropout=dropout),\n",
    "            resBlock(out_channel, out_channel, strides=1, dropout=dropout),\n",
    "        )\n",
    "    \n",
    "    def forward(self, x):\n",
    "        x = self.head(x)\n",
    "        x = self.cnn(x)\n",
    "        \n",
    "        return x\n",
    "\n",
    "# %%\n",
    "class DeepLPI(nn.Module):\n",
    "    def __init__(self, molshape, seqshape, dropout=0.3):\n",
    "        super().__init__()\n",
    "        \n",
    "        self.molshape = molshape\n",
    "        self.seqshape = seqshape\n",
    "\n",
    "        self.molcnn = cnnModule(1,16)\n",
    "        self.seqcnn = cnnModule(1,16)\n",
    "        \n",
    "        self.pool = nn.AvgPool1d(7, stride = 5, padding=2)\n",
    "        self.lstm = nn.LSTM(16, 16, num_layers=2, batch_first=True, bidirectional=True)\n",
    "        \n",
    "        self.mlp = nn.Sequential(\n",
    "            nn.Linear(round(self.molshape/4 + self.seqshape/20) * 2 * 16, 1024),\n",
    "            nn.BatchNorm1d(1024),\n",
    "            nn.ReLU(),\n",
    "            nn.Dropout(p=dropout),\n",
    "            \n",
    "            nn.Linear(1024, 1024),\n",
    "            nn.BatchNorm1d(1024),\n",
    "            nn.Sigmoid(),\n",
    "            nn.Dropout(p=dropout),\n",
    "            \n",
    "            nn.Linear(1024, 1),\n",
    "        )\n",
    "\n",
    "    def forward(self, mol, seq):\n",
    "        mol = self.molcnn(mol.reshape(-1,1,self.molshape))\n",
    "        seq = self.seqcnn(seq.reshape(-1,1,self.seqshape))\n",
    "        \n",
    "        # put data into lstm\n",
    "        seq = self.pool(seq)\n",
    "        x = torch.cat((mol,seq),2)\n",
    "        \n",
    "        # print(seq.shape)\n",
    "        x = x.reshape(-1,round(self.molshape/4 + self.seqshape/20),16)\n",
    "\n",
    "        x,_ = self.lstm(x)\n",
    "        # fully connect layer\n",
    "        x = self.mlp(x.flatten(1))\n",
    "        \n",
    "        x = x.flatten()\n",
    "        \n",
    "        return x\n"
   ]
  },
  {
   "cell_type": "code",
   "execution_count": 3,
   "metadata": {},
   "outputs": [
    {
     "data": {
      "text/plain": [
       "<All keys matched successfully>"
      ]
     },
     "execution_count": 3,
     "metadata": {},
     "output_type": "execute_result"
    }
   ],
   "source": [
    "model = DeepLPI(300,6165,dropout=0.2)\n",
    "model.load_state_dict(torch.load(model_path)['state_dict'])"
   ]
  },
  {
   "cell_type": "code",
   "execution_count": 4,
   "metadata": {},
   "outputs": [],
   "source": [
    "import pandas as pd\n",
    "\n",
    "seqembed = pd.read_csv(seqembed_path)\n",
    "molembed = pd.read_csv(molembed_path,)\n",
    "test = pd.read_csv(test_path)"
   ]
  },
  {
   "cell_type": "code",
   "execution_count": 5,
   "metadata": {},
   "outputs": [],
   "source": [
    "seqembed=seqembed.set_index(\"id\").iloc[:,1:]\n",
    "molembed = molembed.set_index(\"id\").iloc[:,1:]"
   ]
  },
  {
   "cell_type": "code",
   "execution_count": 6,
   "metadata": {},
   "outputs": [],
   "source": [
    "import numpy as np\n",
    "from torch import tensor\n",
    "\n",
    "test_seq = tensor(np.array(seqembed.loc[test[\"seq\"]])).to(torch.float32)\n",
    "test_mol = tensor(np.array(molembed.loc[test[\"mol\"]])).to(torch.float32)\n",
    "test_label = tensor(np.array(test[\"pKd (nM)\"])).to(torch.float32)"
   ]
  },
  {
   "cell_type": "code",
   "execution_count": 7,
   "metadata": {},
   "outputs": [],
   "source": [
    "def dotest(model,test_mol,test_seq):\n",
    "    model = model.eval()\n",
    "    with torch.no_grad():\n",
    "        logits = model(test_mol,test_seq)\n",
    "    logits = np.array(logits)\n",
    "    return logits"
   ]
  },
  {
   "cell_type": "code",
   "execution_count": 8,
   "metadata": {},
   "outputs": [],
   "source": [
    "pred = dotest(model,test_mol,test_seq)"
   ]
  },
  {
   "cell_type": "code",
   "execution_count": 9,
   "metadata": {},
   "outputs": [
    {
     "name": "stdout",
     "output_type": "stream",
     "text": [
      "r2_score: 0.6931884892606679\n"
     ]
    }
   ],
   "source": [
    "from sklearn.metrics import r2_score, mean_squared_error\n",
    "\n",
    "print(\"r2_score: \" + str(r2_score(test_label,pred)))"
   ]
  },
  {
   "cell_type": "code",
   "execution_count": 10,
   "metadata": {},
   "outputs": [
    {
     "name": "stdout",
     "output_type": "stream",
     "text": [
      "mean_squared_error: 0.19630535\n"
     ]
    }
   ],
   "source": [
    "print(\"mean_squared_error: \" + str(mean_squared_error(test_label,pred)))"
   ]
  },
  {
   "cell_type": "code",
   "execution_count": 11,
   "metadata": {},
   "outputs": [],
   "source": [
    "import numpy as np\n",
    "import matplotlib.pyplot as plt\n",
    "import matplotlib as mpl\n",
    "from matplotlib.colors import ListedColormap, LinearSegmentedColormap"
   ]
  },
  {
   "cell_type": "code",
   "execution_count": 16,
   "metadata": {},
   "outputs": [
    {
     "data": {
      "image/png": "[encoded data removed]",
      "text/plain": [
       "<Figure size 216x230.4 with 1 Axes>"
      ]
     },
     "metadata": {
      "needs_background": "light"
     },
     "output_type": "display_data"
    }
   ],
   "source": [
    "from mlxtend.plotting import plot_confusion_matrix\n",
    "from mlxtend.evaluate import confusion_matrix\n",
    "\n",
    "cmap = LinearSegmentedColormap.from_list(\"mycmap\", [\"#DEC0F0\", \"#9800F0\"])\n",
    "fig = plt.figure(figsize=(3, 3.2))\n",
    "plt.xlabel(\"true value\")\n",
    "plt.ylabel(\"predict value\")\n",
    "plt.scatter(test_label, pred, alpha = 0.2, color='#FF6F36')\n",
    "plt.plot(range(-5,4), range(-5,4),color=\"black\",linewidth=2)\n",
    "plt.xlim(-5,3)\n",
    "plt.ylim(-5,3)\n",
    "plt.savefig(plot_path + \"unseenmol_confusion_mat.svg\", dpi=200)"
   ]
  }
 ],
 "metadata": {
  "kernelspec": {
   "display_name": "Python 3.6.13 ('DeepPurpose')",
   "language": "python",
   "name": "python3"
  },
  "language_info": {
   "codemirror_mode": {
    "name": "ipython",
    "version": 3
   },
   "file_extension": ".py",
   "mimetype": "text/x-python",
   "name": "python",
   "nbconvert_exporter": "python",
   "pygments_lexer": "ipython3",
   "version": "3.6.13"
  },
  "orig_nbformat": 4,
  "vscode": {
   "interpreter": {
    "hash": "f923ce3d9a6c852fa4277c7633c15be33e3c2fd747753029b4f9b6323264f49d"
   }
  }
 },
 "nbformat": 4,
 "nbformat_minor": 2
}
