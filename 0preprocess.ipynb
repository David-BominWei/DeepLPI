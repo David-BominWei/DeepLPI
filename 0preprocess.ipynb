{
 "cells": [
  {
   "cell_type": "code",
   "execution_count": 1,
   "metadata": {},
   "outputs": [],
   "source": [
    "# change the file path here\n",
    "\n",
    "RAMDOMSEED = 11\n",
    "\n",
    "# original data download from BindingDB\n",
    "datafile = \"/home/wbm001/deeplpi/DeepLPI/data/BindingDB_All.tsv\"\n",
    "datapath = \"/home/wbm001/deeplpi/DeepLPI/data/\""
   ]
  },
  {
   "cell_type": "code",
   "execution_count": 2,
   "metadata": {},
   "outputs": [
    {
     "name": "stderr",
     "output_type": "stream",
     "text": [
      "b'Skipping line 1087314: expected 193 fields, saw 205\\nSkipping line 1087340: expected 193 fields, saw 205\\n'\n",
      "b'Skipping line 1120033: expected 193 fields, saw 205\\n'\n",
      "b'Skipping line 1142701: expected 193 fields, saw 265\\n'\n",
      "b'Skipping line 1546347: expected 193 fields, saw 241\\n'\n",
      "b'Skipping line 1660234: expected 193 fields, saw 241\\nSkipping line 1660235: expected 193 fields, saw 241\\nSkipping line 1660236: expected 193 fields, saw 241\\nSkipping line 1660237: expected 193 fields, saw 241\\nSkipping line 1660238: expected 193 fields, saw 241\\nSkipping line 1660239: expected 193 fields, saw 241\\nSkipping line 1660240: expected 193 fields, saw 241\\nSkipping line 1660241: expected 193 fields, saw 241\\nSkipping line 1660242: expected 193 fields, saw 241\\n'\n",
      "b'Skipping line 1673507: expected 193 fields, saw 205\\n'\n",
      "b'Skipping line 1692730: expected 193 fields, saw 241\\nSkipping line 1692731: expected 193 fields, saw 241\\nSkipping line 1692732: expected 193 fields, saw 241\\nSkipping line 1692733: expected 193 fields, saw 241\\nSkipping line 1692734: expected 193 fields, saw 241\\nSkipping line 1692735: expected 193 fields, saw 241\\nSkipping line 1692736: expected 193 fields, saw 241\\nSkipping line 1692737: expected 193 fields, saw 241\\nSkipping line 1692738: expected 193 fields, saw 241\\n'\n",
      "b'Skipping line 1731908: expected 193 fields, saw 205\\n'\n",
      "b'Skipping line 2118116: expected 193 fields, saw 265\\n'\n",
      "b'Skipping line 2205337: expected 193 fields, saw 265\\nSkipping line 2205338: expected 193 fields, saw 265\\nSkipping line 2205339: expected 193 fields, saw 265\\nSkipping line 2205340: expected 193 fields, saw 265\\nSkipping line 2205341: expected 193 fields, saw 265\\nSkipping line 2205342: expected 193 fields, saw 265\\nSkipping line 2205343: expected 193 fields, saw 265\\nSkipping line 2205344: expected 193 fields, saw 265\\nSkipping line 2205345: expected 193 fields, saw 265\\nSkipping line 2205346: expected 193 fields, saw 265\\nSkipping line 2205347: expected 193 fields, saw 265\\nSkipping line 2205348: expected 193 fields, saw 265\\nSkipping line 2205349: expected 193 fields, saw 265\\nSkipping line 2205350: expected 193 fields, saw 265\\nSkipping line 2205351: expected 193 fields, saw 265\\nSkipping line 2205352: expected 193 fields, saw 265\\nSkipping line 2205353: expected 193 fields, saw 265\\nSkipping line 2205354: expected 193 fields, saw 265\\nSkipping line 2205355: expected 193 fields, saw 265\\nSkipping line 2205973: expected 193 fields, saw 265\\nSkipping line 2205974: expected 193 fields, saw 265\\nSkipping line 2205975: expected 193 fields, saw 265\\nSkipping line 2205976: expected 193 fields, saw 265\\nSkipping line 2205977: expected 193 fields, saw 265\\nSkipping line 2205978: expected 193 fields, saw 265\\nSkipping line 2205979: expected 193 fields, saw 265\\n'\n",
      "b'Skipping line 2217390: expected 193 fields, saw 265\\nSkipping line 2217391: expected 193 fields, saw 265\\nSkipping line 2217392: expected 193 fields, saw 265\\nSkipping line 2217393: expected 193 fields, saw 265\\nSkipping line 2217394: expected 193 fields, saw 265\\nSkipping line 2217395: expected 193 fields, saw 265\\nSkipping line 2217396: expected 193 fields, saw 265\\nSkipping line 2217397: expected 193 fields, saw 265\\nSkipping line 2217398: expected 193 fields, saw 265\\nSkipping line 2217399: expected 193 fields, saw 265\\nSkipping line 2217400: expected 193 fields, saw 265\\nSkipping line 2217401: expected 193 fields, saw 265\\nSkipping line 2217402: expected 193 fields, saw 265\\nSkipping line 2217403: expected 193 fields, saw 265\\nSkipping line 2217404: expected 193 fields, saw 265\\nSkipping line 2217405: expected 193 fields, saw 265\\nSkipping line 2217406: expected 193 fields, saw 265\\nSkipping line 2217407: expected 193 fields, saw 265\\nSkipping line 2217408: expected 193 fields, saw 265\\nSkipping line 2217409: expected 193 fields, saw 265\\nSkipping line 2217410: expected 193 fields, saw 265\\nSkipping line 2217411: expected 193 fields, saw 265\\nSkipping line 2217412: expected 193 fields, saw 265\\nSkipping line 2217413: expected 193 fields, saw 265\\nSkipping line 2217414: expected 193 fields, saw 265\\nSkipping line 2217415: expected 193 fields, saw 265\\nSkipping line 2217416: expected 193 fields, saw 265\\nSkipping line 2217417: expected 193 fields, saw 265\\nSkipping line 2217418: expected 193 fields, saw 265\\nSkipping line 2217419: expected 193 fields, saw 265\\nSkipping line 2217420: expected 193 fields, saw 265\\nSkipping line 2217421: expected 193 fields, saw 265\\nSkipping line 2217422: expected 193 fields, saw 265\\nSkipping line 2217423: expected 193 fields, saw 265\\nSkipping line 2217424: expected 193 fields, saw 265\\nSkipping line 2217425: expected 193 fields, saw 265\\nSkipping line 2217426: expected 193 fields, saw 265\\nSkipping line 2217427: expected 193 fields, saw 265\\nSkipping line 2217428: expected 193 fields, saw 265\\nSkipping line 2220025: expected 193 fields, saw 265\\nSkipping line 2220026: expected 193 fields, saw 265\\nSkipping line 2220027: expected 193 fields, saw 265\\nSkipping line 2220028: expected 193 fields, saw 265\\nSkipping line 2220029: expected 193 fields, saw 265\\nSkipping line 2220030: expected 193 fields, saw 265\\nSkipping line 2220031: expected 193 fields, saw 265\\nSkipping line 2220032: expected 193 fields, saw 265\\n'\n",
      "b'Skipping line 2232580: expected 193 fields, saw 313\\n'\n",
      "b'Skipping line 2250124: expected 193 fields, saw 637\\n'\n",
      "b'Skipping line 2300474: expected 193 fields, saw 385\\n'\n",
      "b'Skipping line 2316338: expected 193 fields, saw 265\\nSkipping line 2316339: expected 193 fields, saw 265\\nSkipping line 2316340: expected 193 fields, saw 265\\nSkipping line 2316341: expected 193 fields, saw 265\\nSkipping line 2316342: expected 193 fields, saw 265\\n'\n",
      "b'Skipping line 2328092: expected 193 fields, saw 265\\nSkipping line 2328093: expected 193 fields, saw 265\\nSkipping line 2328094: expected 193 fields, saw 265\\n'\n",
      "b'Skipping line 2368234: expected 193 fields, saw 265\\nSkipping line 2368235: expected 193 fields, saw 265\\nSkipping line 2368236: expected 193 fields, saw 265\\nSkipping line 2368242: expected 193 fields, saw 265\\nSkipping line 2368243: expected 193 fields, saw 265\\nSkipping line 2368244: expected 193 fields, saw 265\\nSkipping line 2368245: expected 193 fields, saw 265\\nSkipping line 2368246: expected 193 fields, saw 265\\nSkipping line 2368247: expected 193 fields, saw 265\\nSkipping line 2368248: expected 193 fields, saw 265\\nSkipping line 2368249: expected 193 fields, saw 265\\nSkipping line 2368250: expected 193 fields, saw 265\\nSkipping line 2368251: expected 193 fields, saw 265\\nSkipping line 2368252: expected 193 fields, saw 265\\nSkipping line 2368253: expected 193 fields, saw 265\\nSkipping line 2368254: expected 193 fields, saw 265\\nSkipping line 2368255: expected 193 fields, saw 265\\nSkipping line 2368256: expected 193 fields, saw 265\\nSkipping line 2368257: expected 193 fields, saw 265\\nSkipping line 2368258: expected 193 fields, saw 265\\nSkipping line 2368259: expected 193 fields, saw 265\\nSkipping line 2368260: expected 193 fields, saw 265\\nSkipping line 2368262: expected 193 fields, saw 265\\nSkipping line 2368263: expected 193 fields, saw 265\\nSkipping line 2368264: expected 193 fields, saw 265\\nSkipping line 2368265: expected 193 fields, saw 265\\nSkipping line 2368268: expected 193 fields, saw 265\\nSkipping line 2368269: expected 193 fields, saw 265\\nSkipping line 2368270: expected 193 fields, saw 265\\nSkipping line 2368271: expected 193 fields, saw 265\\nSkipping line 2368272: expected 193 fields, saw 265\\nSkipping line 2368273: expected 193 fields, saw 265\\nSkipping line 2368274: expected 193 fields, saw 265\\n'\n",
      "b'Skipping line 2384771: expected 193 fields, saw 265\\nSkipping line 2384772: expected 193 fields, saw 265\\nSkipping line 2384819: expected 193 fields, saw 265\\n'\n",
      "/home/wbm001/miniconda3/envs/DeepPurpose/lib/python3.6/site-packages/IPython/core/interactiveshell.py:2714: DtypeWarning: Columns (8,9,10,11,12,13,15,17,18,19,20,26,27,31,32,34,35,39,40,41,42,46,49,50,51,52,53,54,61,62,63,64,65,66,73,74,75,76,77,78,85,86,87,88,89,90,97,98,99,100,101,102,109,110,111,112,113,114,121,122,123,124,125,126,133,134,135,136,137,138,145,147,148,149,150,157,158,159,160,161,162,169,171,172,173,174) have mixed types.Specify dtype option on import or set low_memory=False.\n",
      "  interactivity=interactivity, compiler=compiler, result=result)\n"
     ]
    }
   ],
   "source": [
    "import pandas as pd\n",
    "\n",
    "data = pd.read_csv(datafile,'\\t',error_bad_lines=False)"
   ]
  },
  {
   "cell_type": "code",
   "execution_count": 4,
   "metadata": {},
   "outputs": [],
   "source": [
    "oridata = data.copy()"
   ]
  },
  {
   "cell_type": "code",
   "execution_count": 93,
   "metadata": {},
   "outputs": [],
   "source": [
    "# data = oridata.copy()"
   ]
  },
  {
   "cell_type": "code",
   "execution_count": 5,
   "metadata": {},
   "outputs": [
    {
     "name": "stdout",
     "output_type": "stream",
     "text": [
      "after remove multichain sequence: 2291976\n",
      "data have ki value: 506719\n",
      "data have kd value: 93978\n"
     ]
    },
    {
     "data": {
      "text/html": [
       "<div>\n",
       "<style scoped>\n",
       "    .dataframe tbody tr th:only-of-type {\n",
       "        vertical-align: middle;\n",
       "    }\n",
       "\n",
       "    .dataframe tbody tr th {\n",
       "        vertical-align: top;\n",
       "    }\n",
       "\n",
       "    .dataframe thead th {\n",
       "        text-align: right;\n",
       "    }\n",
       "</style>\n",
       "<table border=\"1\" class=\"dataframe\">\n",
       "  <thead>\n",
       "    <tr style=\"text-align: right;\">\n",
       "      <th></th>\n",
       "      <th>Ligand SMILES</th>\n",
       "      <th>Ki (nM)</th>\n",
       "      <th>BindingDB Target Chain  Sequence</th>\n",
       "    </tr>\n",
       "    <tr>\n",
       "      <th>BindingDB Reactant_set_id</th>\n",
       "      <th></th>\n",
       "      <th></th>\n",
       "      <th></th>\n",
       "    </tr>\n",
       "  </thead>\n",
       "  <tbody>\n",
       "    <tr>\n",
       "      <th>1</th>\n",
       "      <td>COc1cc2c(Nc3ccc(Br)cc3F)ncnc2cc1OCC1CCN(C)CC1</td>\n",
       "      <td>0.24</td>\n",
       "      <td>PQITLWQRPLVTIKIGGQLKEALLDTGADDTVLEEMSLPGRWKPKM...</td>\n",
       "    </tr>\n",
       "    <tr>\n",
       "      <th>2</th>\n",
       "      <td>O[C@@H]1[C@@H](O)[C@@H](Cc2ccccc2)N(C\\C=C\\c2cn...</td>\n",
       "      <td>0.25</td>\n",
       "      <td>PQITLWQRPLVTIKIGGQLKEALLDTGADDTVLEEMSLPGRWKPKM...</td>\n",
       "    </tr>\n",
       "    <tr>\n",
       "      <th>3</th>\n",
       "      <td>O[C@@H]1[C@@H](O)[C@@H](Cc2ccccc2)N(CC2CC2)C(=...</td>\n",
       "      <td>0.41</td>\n",
       "      <td>PQITLWQRPLVTIKIGGQLKEALLDTGADDTVLEEMSLPGRWKPKM...</td>\n",
       "    </tr>\n",
       "    <tr>\n",
       "      <th>4</th>\n",
       "      <td>OCCCCCCN1[C@H](Cc2ccccc2)[C@H](O)[C@@H](O)[C@@...</td>\n",
       "      <td>0.8</td>\n",
       "      <td>PQITLWQRPLVTIKIGGQLKEALLDTGADDTVLEEMSLPGRWKPKM...</td>\n",
       "    </tr>\n",
       "    <tr>\n",
       "      <th>5</th>\n",
       "      <td>OCCCCCN1[C@H](Cc2ccccc2)[C@H](O)[C@@H](O)[C@@H...</td>\n",
       "      <td>0.99</td>\n",
       "      <td>PQITLWQRPLVTIKIGGQLKEALLDTGADDTVLEEMSLPGRWKPKM...</td>\n",
       "    </tr>\n",
       "    <tr>\n",
       "      <th>...</th>\n",
       "      <td>...</td>\n",
       "      <td>...</td>\n",
       "      <td>...</td>\n",
       "    </tr>\n",
       "    <tr>\n",
       "      <th>51349515</th>\n",
       "      <td>CC[C@H](C)[C@H](NC(=O)OC)C(=O)N[C@@H](Cc1ccccc...</td>\n",
       "      <td>0.560000</td>\n",
       "      <td>PQITLWQRPFVTIKIEGQLKEALLDTGADDTVLEEMNLPGRWKPKM...</td>\n",
       "    </tr>\n",
       "    <tr>\n",
       "      <th>51349516</th>\n",
       "      <td>CC[C@@H](C)[C@H](NC(=O)OC)C(=O)N[C@@H](Cc1cccc...</td>\n",
       "      <td>0.029000</td>\n",
       "      <td>PQITLWQRPFVTIKIEGQLKEALLDTGADDTVLEEMNLPGRWKPKM...</td>\n",
       "    </tr>\n",
       "    <tr>\n",
       "      <th>51349517</th>\n",
       "      <td>Cc1cccc(C)c1OCC(=O)N[C@@H](Cc1ccccc1)[C@@H](O)...</td>\n",
       "      <td>0.072000</td>\n",
       "      <td>PQITLWQRPFVTIKIEGQLKEALLDTGADDTVLEEMNLPGRWKPKM...</td>\n",
       "    </tr>\n",
       "    <tr>\n",
       "      <th>51349518</th>\n",
       "      <td>CC(C)[C@H](N1CCCNC1=O)C(=O)N[C@H](C[C@H](O)[C@...</td>\n",
       "      <td>0.061000</td>\n",
       "      <td>PQITLWQRPFVTIKIEGQLKEALLDTGADDTVLEEMNLPGRWKPKM...</td>\n",
       "    </tr>\n",
       "    <tr>\n",
       "      <th>51349519</th>\n",
       "      <td>CC(C)CN(C[C@@H](O)[C@H](Cc1ccccc1)NC(=O)O[C@H]...</td>\n",
       "      <td>0.075000</td>\n",
       "      <td>PQITLWQRPFVTIKIEGQLKEALLDTGADDTVLEEMNLPGRWKPKM...</td>\n",
       "    </tr>\n",
       "  </tbody>\n",
       "</table>\n",
       "<p>506719 rows × 3 columns</p>\n",
       "</div>"
      ],
      "text/plain": [
       "                                                               Ligand SMILES  \\\n",
       "BindingDB Reactant_set_id                                                      \n",
       "1                              COc1cc2c(Nc3ccc(Br)cc3F)ncnc2cc1OCC1CCN(C)CC1   \n",
       "2                          O[C@@H]1[C@@H](O)[C@@H](Cc2ccccc2)N(C\\C=C\\c2cn...   \n",
       "3                          O[C@@H]1[C@@H](O)[C@@H](Cc2ccccc2)N(CC2CC2)C(=...   \n",
       "4                          OCCCCCCN1[C@H](Cc2ccccc2)[C@H](O)[C@@H](O)[C@@...   \n",
       "5                          OCCCCCN1[C@H](Cc2ccccc2)[C@H](O)[C@@H](O)[C@@H...   \n",
       "...                                                                      ...   \n",
       "51349515                   CC[C@H](C)[C@H](NC(=O)OC)C(=O)N[C@@H](Cc1ccccc...   \n",
       "51349516                   CC[C@@H](C)[C@H](NC(=O)OC)C(=O)N[C@@H](Cc1cccc...   \n",
       "51349517                   Cc1cccc(C)c1OCC(=O)N[C@@H](Cc1ccccc1)[C@@H](O)...   \n",
       "51349518                   CC(C)[C@H](N1CCCNC1=O)C(=O)N[C@H](C[C@H](O)[C@...   \n",
       "51349519                   CC(C)CN(C[C@@H](O)[C@H](Cc1ccccc1)NC(=O)O[C@H]...   \n",
       "\n",
       "                             Ki (nM)  \\\n",
       "BindingDB Reactant_set_id              \n",
       "1                               0.24   \n",
       "2                               0.25   \n",
       "3                               0.41   \n",
       "4                                0.8   \n",
       "5                               0.99   \n",
       "...                              ...   \n",
       "51349515                    0.560000   \n",
       "51349516                    0.029000   \n",
       "51349517                    0.072000   \n",
       "51349518                    0.061000   \n",
       "51349519                    0.075000   \n",
       "\n",
       "                                            BindingDB Target Chain  Sequence  \n",
       "BindingDB Reactant_set_id                                                     \n",
       "1                          PQITLWQRPLVTIKIGGQLKEALLDTGADDTVLEEMSLPGRWKPKM...  \n",
       "2                          PQITLWQRPLVTIKIGGQLKEALLDTGADDTVLEEMSLPGRWKPKM...  \n",
       "3                          PQITLWQRPLVTIKIGGQLKEALLDTGADDTVLEEMSLPGRWKPKM...  \n",
       "4                          PQITLWQRPLVTIKIGGQLKEALLDTGADDTVLEEMSLPGRWKPKM...  \n",
       "5                          PQITLWQRPLVTIKIGGQLKEALLDTGADDTVLEEMSLPGRWKPKM...  \n",
       "...                                                                      ...  \n",
       "51349515                   PQITLWQRPFVTIKIEGQLKEALLDTGADDTVLEEMNLPGRWKPKM...  \n",
       "51349516                   PQITLWQRPFVTIKIEGQLKEALLDTGADDTVLEEMNLPGRWKPKM...  \n",
       "51349517                   PQITLWQRPFVTIKIEGQLKEALLDTGADDTVLEEMNLPGRWKPKM...  \n",
       "51349518                   PQITLWQRPFVTIKIEGQLKEALLDTGADDTVLEEMNLPGRWKPKM...  \n",
       "51349519                   PQITLWQRPFVTIKIEGQLKEALLDTGADDTVLEEMNLPGRWKPKM...  \n",
       "\n",
       "[506719 rows x 3 columns]"
      ]
     },
     "execution_count": 5,
     "metadata": {},
     "output_type": "execute_result"
    }
   ],
   "source": [
    "import numpy as np\n",
    "\n",
    "data = data.set_index(\"BindingDB Reactant_set_id\")\n",
    "data = data.drop(data[\"BindingDB Target Chain  Sequence.1\"].dropna().index) # remove multichain sequence\n",
    "print(\"after remove multichain sequence: \" + str(len(data)))\n",
    "data = data[[\"Ligand SMILES\",\"Ki (nM)\",\"Kd (nM)\",\"BindingDB Target Chain  Sequence\"]]\n",
    "dataki = data[[\"Ligand SMILES\",\"Ki (nM)\",\"BindingDB Target Chain  Sequence\"]].dropna() # remove data without ki and kd value\n",
    "datakd = data[[\"Ligand SMILES\",\"Kd (nM)\",\"BindingDB Target Chain  Sequence\"]].dropna()\n",
    "print(\"data have ki value: \" + str(len(dataki)))\n",
    "print(\"data have kd value: \" + str(len(datakd)))\n",
    "dataki"
   ]
  },
  {
   "cell_type": "code",
   "execution_count": 6,
   "metadata": {},
   "outputs": [],
   "source": [
    "from math import log10\n",
    "\n",
    "\n",
    "dataki[\"Ki (nM)\"] = dataki[\"Ki (nM)\"].map(lambda x : float(x) if str(x)[0] not in [\">\",\"<\"] else float(str(x)[1:]))\n",
    "datakd[\"Kd (nM)\"] = datakd[\"Kd (nM)\"].map(lambda x : float(x) if str(x)[0] not in [\">\",\"<\"] else float(str(x)[1:]))\n",
    "\n",
    "dataki[\"pki\"] = dataki[\"Ki (nM)\"].map(lambda x : -log10(x) if x != 0 else None)\n",
    "datakd[\"pkd\"] = datakd[\"Kd (nM)\"].map(lambda x : -log10(x) if x != 0 else None)"
   ]
  },
  {
   "cell_type": "code",
   "execution_count": 7,
   "metadata": {},
   "outputs": [
    {
     "name": "stdout",
     "output_type": "stream",
     "text": [
      "data ki remain: 506708\n",
      "data kd remain: 93977\n"
     ]
    }
   ],
   "source": [
    "# remove unproparate ki | kd\n",
    "\n",
    "dataki = dataki.dropna()\n",
    "datakd = datakd.dropna()\n",
    "\n",
    "print(\"data ki remain: \" + str(len(dataki)))\n",
    "print(\"data kd remain: \" + str(len(datakd)))"
   ]
  },
  {
   "cell_type": "code",
   "execution_count": 8,
   "metadata": {},
   "outputs": [],
   "source": [
    "# select out the test mol and seq\n",
    "\n",
    "from sklearn.model_selection import train_test_split\n",
    "\n",
    "_, ki_mol_test = train_test_split(list(dataki[\"Ligand SMILES\"]), test_size=700, random_state=RAMDOMSEED)\n",
    "_, ki_seq_test = train_test_split(list(dataki[\"BindingDB Target Chain  Sequence\"]), test_size=6, random_state=RAMDOMSEED)\n",
    "_, kd_mol_test = train_test_split(list(datakd[\"Ligand SMILES\"]), test_size=50, random_state=RAMDOMSEED)\n",
    "_, kd_seq_test = train_test_split(list(datakd[\"BindingDB Target Chain  Sequence\"]), test_size=15, random_state=RAMDOMSEED)"
   ]
  },
  {
   "cell_type": "code",
   "execution_count": 9,
   "metadata": {},
   "outputs": [],
   "source": [
    "molset = set(list(dataki[\"Ligand SMILES\"]) + list(datakd[\"Ligand SMILES\"]))\n",
    "moldict = dict(enumerate(molset))\n",
    "molrev = { y:x for x,y in enumerate(molset) }\n",
    "\n",
    "seqset = set(list(dataki[\"BindingDB Target Chain  Sequence\"]) + list(datakd[\"BindingDB Target Chain  Sequence\"]))\n",
    "seqdict = dict(enumerate(seqset))\n",
    "seqrev = { y:x for x,y in enumerate(seqset) }"
   ]
  },
  {
   "cell_type": "code",
   "execution_count": 10,
   "metadata": {},
   "outputs": [],
   "source": [
    "moldict = pd.DataFrame.from_dict(moldict,orient='index')\n",
    "seqdict = pd.DataFrame.from_dict(seqdict,orient='index')"
   ]
  },
  {
   "cell_type": "code",
   "execution_count": 11,
   "metadata": {},
   "outputs": [],
   "source": [
    "moldict[\"ki_test\"] = moldict[0].map(lambda x : True if x in ki_mol_test else False)\n",
    "seqdict[\"ki_test\"] = seqdict[0].map(lambda x : True if x in ki_seq_test else False)\n",
    "moldict[\"kd_test\"] = moldict[0].map(lambda x : True if x in kd_mol_test else False)\n",
    "seqdict[\"kd_test\"] = seqdict[0].map(lambda x : True if x in kd_seq_test else False)"
   ]
  },
  {
   "cell_type": "code",
   "execution_count": 12,
   "metadata": {},
   "outputs": [
    {
     "name": "stderr",
     "output_type": "stream",
     "text": [
      "/home/wbm001/miniconda3/envs/DeepPurpose/lib/python3.6/site-packages/ipykernel_launcher.py:1: SettingWithCopyWarning: \n",
      "A value is trying to be set on a copy of a slice from a DataFrame.\n",
      "Try using .loc[row_indexer,col_indexer] = value instead\n",
      "\n",
      "See the caveats in the documentation: https://pandas.pydata.org/pandas-docs/stable/user_guide/indexing.html#returning-a-view-versus-a-copy\n",
      "  \"\"\"Entry point for launching an IPython kernel.\n",
      "/home/wbm001/miniconda3/envs/DeepPurpose/lib/python3.6/site-packages/ipykernel_launcher.py:4: SettingWithCopyWarning: \n",
      "A value is trying to be set on a copy of a slice from a DataFrame.\n",
      "Try using .loc[row_indexer,col_indexer] = value instead\n",
      "\n",
      "See the caveats in the documentation: https://pandas.pydata.org/pandas-docs/stable/user_guide/indexing.html#returning-a-view-versus-a-copy\n",
      "  after removing the cwd from sys.path.\n"
     ]
    }
   ],
   "source": [
    "dataki[\"mol\"] = dataki[\"Ligand SMILES\"].map(lambda x : molrev[x])\n",
    "datakd[\"mol\"] = datakd[\"Ligand SMILES\"].map(lambda x : molrev[x])\n",
    "\n",
    "dataki[\"seq\"] = dataki[\"BindingDB Target Chain  Sequence\"].map(lambda x : seqrev[x])\n",
    "datakd[\"seq\"] = datakd[\"BindingDB Target Chain  Sequence\"].map(lambda x : seqrev[x])"
   ]
  },
  {
   "cell_type": "code",
   "execution_count": 13,
   "metadata": {},
   "outputs": [
    {
     "name": "stdout",
     "output_type": "stream",
     "text": [
      "data have ki remain: 405985\n",
      "data have kd remain: 62825\n"
     ]
    }
   ],
   "source": [
    "# drop duplicates\n",
    "dataki = dataki.drop_duplicates(subset=[\"mol\",\"seq\"],keep='first')\n",
    "datakd = datakd.drop_duplicates(subset=[\"mol\",\"seq\"],keep='first')\n",
    "print(\"data have ki remain: \" + str(len(dataki)))\n",
    "print(\"data have kd remain: \" + str(len(datakd)))"
   ]
  },
  {
   "cell_type": "code",
   "execution_count": 14,
   "metadata": {},
   "outputs": [],
   "source": [
    "dataki = dataki[[\"mol\",\"seq\",\"pki\"]]\n",
    "dataki[\"state\"] = 0\n",
    "datakd = datakd[[\"mol\",\"seq\",\"pkd\"]]\n",
    "datakd[\"state\"] = 0"
   ]
  },
  {
   "cell_type": "code",
   "execution_count": 15,
   "metadata": {},
   "outputs": [],
   "source": [
    "dataki[\"state\"] += dataki[\"mol\"].map(lambda x : 1 if moldict.loc[x][\"ki_test\"] else 0)\n",
    "dataki[\"state\"] += dataki[\"seq\"].map(lambda x : 2 if seqdict.loc[x][\"ki_test\"] else 0)\n",
    "datakd[\"state\"] += datakd[\"mol\"].map(lambda x : 1 if moldict.loc[x][\"kd_test\"] else 0)\n",
    "datakd[\"state\"] += datakd[\"seq\"].map(lambda x : 2 if seqdict.loc[x][\"kd_test\"] else 0)"
   ]
  },
  {
   "cell_type": "code",
   "execution_count": 16,
   "metadata": {},
   "outputs": [],
   "source": [
    "dataki[\"dup\"] = dataki.duplicated(subset=[\"mol\"],keep='first') & dataki.duplicated(subset=[\"seq\"],keep='first')\n",
    "_,ki_both_test = train_test_split(np.array(dataki.loc[dataki[\"dup\"]==True].loc[dataki[\"state\"]==0].index), test_size=1200, random_state=RAMDOMSEED)\n",
    "\n",
    "datakd[\"dup\"] = datakd.duplicated(subset=[\"mol\"],keep='first') & datakd.duplicated(subset=[\"seq\"],keep='first')\n",
    "_,kd_both_test = train_test_split(np.array(datakd.loc[datakd[\"dup\"]==True].loc[datakd[\"state\"]==0].index), test_size=2500, random_state=RAMDOMSEED)\n",
    "\n",
    "dataki[\"state\"] += dataki.index.map(lambda x : 10 if x in ki_both_test else 0)\n",
    "datakd[\"state\"] += datakd.index.map(lambda x : 10 if x in kd_both_test else 0)"
   ]
  },
  {
   "cell_type": "code",
   "execution_count": 17,
   "metadata": {},
   "outputs": [],
   "source": [
    "ki_train = dataki.loc[dataki[\"state\"]==0]\n",
    "ki_test = dataki.loc[dataki[\"state\"]!=0]\n",
    "kd_train = datakd.loc[datakd[\"state\"]==0]\n",
    "kd_test = datakd.loc[datakd[\"state\"]!=0]"
   ]
  },
  {
   "cell_type": "code",
   "execution_count": 18,
   "metadata": {},
   "outputs": [
    {
     "name": "stderr",
     "output_type": "stream",
     "text": [
      "/home/wbm001/miniconda3/envs/DeepPurpose/lib/python3.6/site-packages/ipykernel_launcher.py:1: SettingWithCopyWarning: \n",
      "A value is trying to be set on a copy of a slice from a DataFrame.\n",
      "Try using .loc[row_indexer,col_indexer] = value instead\n",
      "\n",
      "See the caveats in the documentation: https://pandas.pydata.org/pandas-docs/stable/user_guide/indexing.html#returning-a-view-versus-a-copy\n",
      "  \"\"\"Entry point for launching an IPython kernel.\n",
      "/home/wbm001/miniconda3/envs/DeepPurpose/lib/python3.6/site-packages/ipykernel_launcher.py:2: SettingWithCopyWarning: \n",
      "A value is trying to be set on a copy of a slice from a DataFrame.\n",
      "Try using .loc[row_indexer,col_indexer] = value instead\n",
      "\n",
      "See the caveats in the documentation: https://pandas.pydata.org/pandas-docs/stable/user_guide/indexing.html#returning-a-view-versus-a-copy\n",
      "  \n"
     ]
    }
   ],
   "source": [
    "ki_test[\"unseen\"] = ki_test[\"state\"].map(lambda x : \"mol\" if x == 1 else \"seq\" if x == 2 else \"none\" if x == 10 else \"both\")\n",
    "kd_test[\"unseen\"] = kd_test[\"state\"].map(lambda x : \"mol\" if x == 1 else \"seq\" if x == 2 else \"none\" if x == 10 else \"both\")"
   ]
  },
  {
   "cell_type": "code",
   "execution_count": 19,
   "metadata": {},
   "outputs": [],
   "source": [
    "ki_train[[\"mol\",\"seq\",\"pki\"]].to_csv(datapath + \"ki_train.csv\")\n",
    "kd_train[[\"mol\",\"seq\",\"pkd\"]].to_csv(datapath + \"kd_train.csv\")\n",
    "ki_test[[\"mol\",\"seq\",\"pki\",\"unseen\"]].to_csv(datapath + \"ki_test.csv\")\n",
    "kd_test[[\"mol\",\"seq\",\"pkd\",\"unseen\"]].to_csv(datapath + \"kd_test.csv\")"
   ]
  },
  {
   "cell_type": "code",
   "execution_count": null,
   "metadata": {},
   "outputs": [],
   "source": [
    "moldict.to_csv(datapath + \"mol_dict.csv\")\n",
    "seqdict.to_csv(datapath + \"seq_dict.csv\")"
   ]
  }
 ],
 "metadata": {
  "kernelspec": {
   "display_name": "Python 3.6.13 ('DeepPurpose')",
   "language": "python",
   "name": "python3"
  },
  "language_info": {
   "codemirror_mode": {
    "name": "ipython",
    "version": 3
   },
   "file_extension": ".py",
   "mimetype": "text/x-python",
   "name": "python",
   "nbconvert_exporter": "python",
   "pygments_lexer": "ipython3",
   "version": "3.6.13"
  },
  "orig_nbformat": 4,
  "vscode": {
   "interpreter": {
    "hash": "f923ce3d9a6c852fa4277c7633c15be33e3c2fd747753029b4f9b6323264f49d"
   }
  }
 },
 "nbformat": 4,
 "nbformat_minor": 2
}
