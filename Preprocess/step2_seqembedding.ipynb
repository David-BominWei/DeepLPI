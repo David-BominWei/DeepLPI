{
 "cells": [
  {
   "cell_type": "code",
   "execution_count": 1,
   "metadata": {},
   "outputs": [],
   "source": [
    "datafile = '/home/wbm001/deeplpi/DeepLPI/data/seq_dict.csv'\n",
    "datapath = \"/home/wbm001/deeplpi/DeepLPI/data/\"\n",
    "modelpath = '/home/wbm001/deeplpi/DeepLPI/Preprocess/prose/prose_mt_3x1024.sav'"
   ]
  },
  {
   "cell_type": "code",
   "execution_count": 2,
   "metadata": {},
   "outputs": [
    {
     "data": {
      "text/html": [
       "<div>\n",
       "<style scoped>\n",
       "    .dataframe tbody tr th:only-of-type {\n",
       "        vertical-align: middle;\n",
       "    }\n",
       "\n",
       "    .dataframe tbody tr th {\n",
       "        vertical-align: top;\n",
       "    }\n",
       "\n",
       "    .dataframe thead th {\n",
       "        text-align: right;\n",
       "    }\n",
       "</style>\n",
       "<table border=\"1\" class=\"dataframe\">\n",
       "  <thead>\n",
       "    <tr style=\"text-align: right;\">\n",
       "      <th></th>\n",
       "      <th>0</th>\n",
       "      <th>ki_test</th>\n",
       "      <th>kd_test</th>\n",
       "    </tr>\n",
       "  </thead>\n",
       "  <tbody>\n",
       "    <tr>\n",
       "      <th>0</th>\n",
       "      <td>MVAHDEIGGLLPIKRTIRVLDVNNQPFREQEEPSNKRVRPLGRVTS...</td>\n",
       "      <td>False</td>\n",
       "      <td>False</td>\n",
       "    </tr>\n",
       "    <tr>\n",
       "      <th>1</th>\n",
       "      <td>MLPPGRNRTAQPARLGLQRQLAQVDAPAGSATPLGPAQVVTAGLLT...</td>\n",
       "      <td>False</td>\n",
       "      <td>False</td>\n",
       "    </tr>\n",
       "    <tr>\n",
       "      <th>2</th>\n",
       "      <td>MEVQLGLGRVYPRPPSKTYRGAFQNLFQSVREVIQNPGPRHPEAAS...</td>\n",
       "      <td>False</td>\n",
       "      <td>False</td>\n",
       "    </tr>\n",
       "    <tr>\n",
       "      <th>3</th>\n",
       "      <td>MKSILDGLADTTFRTITTDLLYVGSNDIQYEDIKGDMASKLGYFPQ...</td>\n",
       "      <td>False</td>\n",
       "      <td>False</td>\n",
       "    </tr>\n",
       "    <tr>\n",
       "      <th>4</th>\n",
       "      <td>MSARLNNLLQHIAVKDKDSDTMRHLKQRMALASLANQFTVGKDHLK...</td>\n",
       "      <td>False</td>\n",
       "      <td>False</td>\n",
       "    </tr>\n",
       "    <tr>\n",
       "      <th>...</th>\n",
       "      <td>...</td>\n",
       "      <td>...</td>\n",
       "      <td>...</td>\n",
       "    </tr>\n",
       "    <tr>\n",
       "      <th>4353</th>\n",
       "      <td>MSEPRFVHLRVHSDYSMIDGLAKTAPLVKKAAALGMPALAITDFTN...</td>\n",
       "      <td>False</td>\n",
       "      <td>False</td>\n",
       "    </tr>\n",
       "    <tr>\n",
       "      <th>4354</th>\n",
       "      <td>MGKVKVGVNGFGRIGRLVTRAAFNSGKVDIVAINDPFIDLNYMVYM...</td>\n",
       "      <td>False</td>\n",
       "      <td>False</td>\n",
       "    </tr>\n",
       "    <tr>\n",
       "      <th>4355</th>\n",
       "      <td>MAVESRSRVTSKLVKAHRAMLNSVTQEDLKVDRLPGADYPNPSKKY...</td>\n",
       "      <td>False</td>\n",
       "      <td>False</td>\n",
       "    </tr>\n",
       "    <tr>\n",
       "      <th>4356</th>\n",
       "      <td>MITTQMWHFYVTRVGLLLLISILPGTTGQGESRRQEPGDFVKQDIG...</td>\n",
       "      <td>False</td>\n",
       "      <td>False</td>\n",
       "    </tr>\n",
       "    <tr>\n",
       "      <th>4357</th>\n",
       "      <td>MSTMRLLTLALLFSCSVARAACDPKIVNIGAVLSTRKHEQMFREAV...</td>\n",
       "      <td>False</td>\n",
       "      <td>False</td>\n",
       "    </tr>\n",
       "  </tbody>\n",
       "</table>\n",
       "<p>4358 rows × 3 columns</p>\n",
       "</div>"
      ],
      "text/plain": [
       "                                                      0  ki_test  kd_test\n",
       "0     MVAHDEIGGLLPIKRTIRVLDVNNQPFREQEEPSNKRVRPLGRVTS...    False    False\n",
       "1     MLPPGRNRTAQPARLGLQRQLAQVDAPAGSATPLGPAQVVTAGLLT...    False    False\n",
       "2     MEVQLGLGRVYPRPPSKTYRGAFQNLFQSVREVIQNPGPRHPEAAS...    False    False\n",
       "3     MKSILDGLADTTFRTITTDLLYVGSNDIQYEDIKGDMASKLGYFPQ...    False    False\n",
       "4     MSARLNNLLQHIAVKDKDSDTMRHLKQRMALASLANQFTVGKDHLK...    False    False\n",
       "...                                                 ...      ...      ...\n",
       "4353  MSEPRFVHLRVHSDYSMIDGLAKTAPLVKKAAALGMPALAITDFTN...    False    False\n",
       "4354  MGKVKVGVNGFGRIGRLVTRAAFNSGKVDIVAINDPFIDLNYMVYM...    False    False\n",
       "4355  MAVESRSRVTSKLVKAHRAMLNSVTQEDLKVDRLPGADYPNPSKKY...    False    False\n",
       "4356  MITTQMWHFYVTRVGLLLLISILPGTTGQGESRRQEPGDFVKQDIG...    False    False\n",
       "4357  MSTMRLLTLALLFSCSVARAACDPKIVNIGAVLSTRKHEQMFREAV...    False    False\n",
       "\n",
       "[4358 rows x 3 columns]"
      ]
     },
     "execution_count": 2,
     "metadata": {},
     "output_type": "execute_result"
    }
   ],
   "source": [
    "import pandas as pd\n",
    "data = pd.read_csv(datafile)\n",
    "data = data[[\"0\",\"ki_test\",\"kd_test\"]]\n",
    "data"
   ]
  },
  {
   "cell_type": "code",
   "execution_count": 3,
   "metadata": {},
   "outputs": [],
   "source": [
    "import torch\n",
    "import numpy as np\n",
    "import pandas as pd\n",
    "from tqdm import tqdm\n",
    "from prose.models.multitask import ProSEMT # use the path of ProSE\n",
    "from prose.alphabets import Uniprot21\n",
    "\n",
    "model = ProSEMT.load_pretrained(modelpath)\n",
    "model.eval()\n",
    "model = model.cuda()\n",
    "\n",
    "def embed_sequence(x):\n",
    "    n = model.embedding.proj.weight.size(1)\n",
    "\n",
    "    alphabet = Uniprot21()\n",
    "    x = x.upper()\n",
    "    x = alphabet.encode(x)\n",
    "    x = torch.from_numpy(x)\n",
    "\n",
    "    x = x.cuda()\n",
    "\n",
    "    with torch.no_grad():\n",
    "        x = x.long().unsqueeze(0)\n",
    "        z = model.transform(x)\n",
    "        z = z.sum(0)\n",
    "        z = z.cpu().numpy()\n",
    "\n",
    "    return z"
   ]
  },
  {
   "cell_type": "code",
   "execution_count": null,
   "metadata": {},
   "outputs": [],
   "source": []
  },
  {
   "cell_type": "code",
   "execution_count": 4,
   "metadata": {},
   "outputs": [
    {
     "name": "stdout",
     "output_type": "stream",
     "text": [
      "start to embed\n"
     ]
    },
    {
     "ename": "",
     "evalue": "",
     "output_type": "error",
     "traceback": [
      "\u001b[1;31mCanceled future for execute_request message before replies were done"
     ]
    },
    {
     "ename": "",
     "evalue": "",
     "output_type": "error",
     "traceback": [
      "\u001b[1;31mThe Kernel crashed while executing code in the the current cell or a previous cell. Please review the code in the cell(s) to identify a possible cause of the failure. Click <a href='https://aka.ms/vscodeJupyterKernelCrash'>here</a> for more info. View Jupyter <a href='command:jupyter.viewOutput'>log</a> for further details."
     ]
    }
   ],
   "source": [
    "import numpy as np\n",
    "\n",
    "print(\"start to embed\")\n",
    "\n",
    "embed = np.array(list(data[\"0\"].map(lambda x : embed_sequence(x.encode())))).reshape(-1,1)\n",
    "\n",
    "print(\"embed down, start to write file\")"
   ]
  },
  {
   "cell_type": "code",
   "execution_count": null,
   "metadata": {},
   "outputs": [
    {
     "ename": "NameError",
     "evalue": "name 'embed' is not defined",
     "output_type": "error",
     "traceback": [
      "\u001b[0;31m---------------------------------------------------------------------------\u001b[0m",
      "\u001b[0;31mNameError\u001b[0m                                 Traceback (most recent call last)",
      "\u001b[0;32m<ipython-input-1-60ecd9373cd8>\u001b[0m in \u001b[0;36m<module>\u001b[0;34m()\u001b[0m\n\u001b[0;32m----> 1\u001b[0;31m \u001b[0membed\u001b[0m\u001b[0;34m.\u001b[0m\u001b[0mshape\u001b[0m\u001b[0;34m\u001b[0m\u001b[0;34m\u001b[0m\u001b[0m\n\u001b[0m",
      "\u001b[0;31mNameError\u001b[0m: name 'embed' is not defined"
     ]
    }
   ],
   "source": [
    "embed.shape"
   ]
  },
  {
   "cell_type": "code",
   "execution_count": 7,
   "metadata": {},
   "outputs": [],
   "source": [
    "import csv\n",
    " \n",
    "with open(datapath + 'seq_embed.csv', 'w') as f:\n",
    "    writer = csv.writer(f)\n",
    "    writer.writerows(embed.tolist())"
   ]
  },
  {
   "cell_type": "code",
   "execution_count": 8,
   "metadata": {},
   "outputs": [
    {
     "data": {
      "text/plain": [
       "array([[ 31.        ,  45.        ,  19.        , ...,   0.49488112,\n",
       "        116.883255  ,  58.524834  ],\n",
       "       [ 41.        ,  26.        ,  17.        , ..., -13.49969   ,\n",
       "         89.910965  ,  71.94673   ],\n",
       "       [ 81.        ,  41.        ,  20.        , ...,  68.391655  ,\n",
       "        244.59235   ,  32.140823  ],\n",
       "       ...,\n",
       "       [ 43.        ,  42.        ,  21.        , ..., -31.050955  ,\n",
       "         24.48243   ,  -8.320545  ],\n",
       "       [ 33.        ,  21.        ,  18.        , ..., -11.8458395 ,\n",
       "         77.132645  , 221.38464   ],\n",
       "       [ 72.        ,  61.        ,  44.        , ...,  -9.280804  ,\n",
       "        234.239     , 266.6541    ]], dtype=float32)"
      ]
     },
     "execution_count": 8,
     "metadata": {},
     "output_type": "execute_result"
    }
   ],
   "source": [
    "embed"
   ]
  }
 ],
 "metadata": {
  "kernelspec": {
   "display_name": "Python 3.6.13 ('DeepPurpose')",
   "language": "python",
   "name": "python3"
  },
  "language_info": {
   "codemirror_mode": {
    "name": "ipython",
    "version": 3
   },
   "file_extension": ".py",
   "mimetype": "text/x-python",
   "name": "python",
   "nbconvert_exporter": "python",
   "pygments_lexer": "ipython3",
   "version": "3.6.13"
  },
  "orig_nbformat": 4,
  "vscode": {
   "interpreter": {
    "hash": "f923ce3d9a6c852fa4277c7633c15be33e3c2fd747753029b4f9b6323264f49d"
   }
  }
 },
 "nbformat": 4,
 "nbformat_minor": 2
}
