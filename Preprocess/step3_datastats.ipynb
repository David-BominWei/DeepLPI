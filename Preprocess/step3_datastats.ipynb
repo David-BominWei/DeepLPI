{
 "cells": [
  {
   "cell_type": "code",
   "execution_count": 33,
   "metadata": {},
   "outputs": [],
   "source": [
    "train_path = \"/home/wbm001/deeplpi/data/davis/trainset.csv\"\n",
    "test_path = \"/home/wbm001/deeplpi/data/davis/testset.csv\"\n",
    "plot_path = \"/home/wbm001/deeplpi/DeepLPI/output/plot/Davis/\""
   ]
  },
  {
   "cell_type": "code",
   "execution_count": 2,
   "metadata": {},
   "outputs": [],
   "source": [
    "import pandas as pd\n",
    "train = pd.read_csv(train_path)\n",
    "test = pd.read_csv(test_path)"
   ]
  },
  {
   "cell_type": "code",
   "execution_count": 38,
   "metadata": {},
   "outputs": [
    {
     "data": {
      "image/png": "[encoded data removed]",
      "text/plain": [
       "<Figure size 360x288 with 1 Axes>"
      ]
     },
     "metadata": {
      "needs_background": "light"
     },
     "output_type": "display_data"
    }
   ],
   "source": [
    "from matplotlib import pyplot as plt\n",
    "\n",
    "plt.figure(figsize=(5,4))\n",
    "plt.ylim(0,900)\n",
    "plt.xlabel(\"pKd value\")\n",
    "plt.hist(train.loc[train[\"pKd (nM)\"]!=-4][\"pKd (nM)\"], bins=20, color=\"#98DB7F\", label=\"train without pkd=-4\", zorder=0)\n",
    "plt.hist(test.loc[test[\"pKd (nM)\"]!=-4][\"pKd (nM)\"], bins=20, color=\"#878FC7\", label=\"test without pkd=-4\", zorder=0)\n",
    "plt.legend()\n",
    "plt.savefig(plot_path + \"pkd_distribution.svg\", dpi=200)"
   ]
  },
  {
   "cell_type": "code",
   "execution_count": 1,
   "metadata": {},
   "outputs": [],
   "source": [
    "train_path = \"/home/wbm001/deeplpi/DeepLPI/data/kd_train.csv\"\n",
    "test_path = \"/home/wbm001/deeplpi/DeepLPI/data/kd_test.csv\"\n",
    "plot_path = \"/home/wbm001/deeplpi/DeepLPI/output/plot/BDB/\""
   ]
  },
  {
   "cell_type": "code",
   "execution_count": 2,
   "metadata": {},
   "outputs": [],
   "source": [
    "import pandas as pd\n",
    "train = pd.read_csv(train_path)\n",
    "test = pd.read_csv(test_path)"
   ]
  },
  {
   "cell_type": "code",
   "execution_count": 3,
   "metadata": {},
   "outputs": [],
   "source": [
    "from matplotlib import pyplot as plt\n",
    "\n",
    "plt.figure(figsize=(5,4))\n",
    "# plt.ylim(0,900)\n",
    "plt.xlabel(\"pKd value\")\n",
    "plt.hist(train[\"pkd\"], bins=20, color=\"#98DB7F\", label=\"train\", zorder=0)\n",
    "plt.hist(test[\"pkd\"], bins=20, color=\"#878FC7\", label=\"test\", zorder=0)\n",
    "plt.legend()\n",
    "plt.savefig(plot_path + \"pkd_distribution.svg\", dpi=200)"
   ]
  },
  {
   "cell_type": "code",
   "execution_count": 4,
   "metadata": {},
   "outputs": [
    {
     "name": "stdout",
     "output_type": "stream",
     "text": [
      "0.7345989769717556\n",
      "0.2654010230282445\n"
     ]
    }
   ],
   "source": [
    "print(sum(train[\"pkd\"] < -2)/len(train))\n",
    "print(sum(train[\"pkd\"] >= -2)/len(train))"
   ]
  },
  {
   "cell_type": "code",
   "execution_count": 12,
   "metadata": {},
   "outputs": [
    {
     "data": {
      "text/plain": [
       "0.7713649025069638"
      ]
     },
     "execution_count": 12,
     "metadata": {},
     "output_type": "execute_result"
    }
   ],
   "source": [
    "(len(train)-1000)/(len(train) + len(test))"
   ]
  },
  {
   "cell_type": "code",
   "execution_count": null,
   "metadata": {},
   "outputs": [],
   "source": []
  }
 ],
 "metadata": {
  "kernelspec": {
   "display_name": "Python 3.6.13 ('DeepPurpose')",
   "language": "python",
   "name": "python3"
  },
  "language_info": {
   "codemirror_mode": {
    "name": "ipython",
    "version": 3
   },
   "file_extension": ".py",
   "mimetype": "text/x-python",
   "name": "python",
   "nbconvert_exporter": "python",
   "pygments_lexer": "ipython3",
   "version": "3.6.13"
  },
  "orig_nbformat": 4,
  "vscode": {
   "interpreter": {
    "hash": "f923ce3d9a6c852fa4277c7633c15be33e3c2fd747753029b4f9b6323264f49d"
   }
  }
 },
 "nbformat": 4,
 "nbformat_minor": 2
}
