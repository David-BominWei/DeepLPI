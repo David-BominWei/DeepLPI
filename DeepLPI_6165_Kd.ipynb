{
 "cells": [
  {
   "cell_type": "code",
   "execution_count": 13,
   "metadata": {},
   "outputs": [],
   "source": [
    "molembed_path = \"/home/wbm001/deeplpi/DeepLPI/data/mol_embed.csv\"\n",
    "seqembed_path = \"/home/wbm001/deeplpi/DeepLPI/data/seq_embed.csv\"\n",
    "train_path = \"/home/wbm001/deeplpi/DeepLPI/data/kd_train.csv\"\n",
    "test_path = \"/home/wbm001/deeplpi/DeepLPI/data/kd_test.csv\"\n",
    "\n",
    "RAMDOMSEED = 11\n",
    "CLASSIFYBOUND = -2"
   ]
  },
  {
   "cell_type": "code",
   "execution_count": 3,
   "metadata": {},
   "outputs": [],
   "source": [
    "import pandas as pd\n",
    "\n",
    "seqembed = pd.read_csv(seqembed_path,header=None)\n",
    "molembed = pd.read_csv(molembed_path,)\n",
    "train = pd.read_csv(train_path)\n",
    "test = pd.read_csv(test_path)"
   ]
  },
  {
   "cell_type": "code",
   "execution_count": 4,
   "metadata": {},
   "outputs": [],
   "source": [
    "molembed = molembed.set_index(\"0\")\n",
    "train[\"exist\"] = train[\"mol\"].map(lambda x : 1 if x in molembed.index.values else None)\n",
    "train = train.dropna()\n",
    "\n",
    "test[\"exist\"] = test[\"mol\"].map(lambda x : 1 if x in molembed.index.values else None)\n",
    "test = test.dropna()"
   ]
  },
  {
   "cell_type": "code",
   "execution_count": 15,
   "metadata": {},
   "outputs": [],
   "source": [
    "import torch\n",
    "from torch import tensor\n",
    "from torch.utils.data import DataLoader,TensorDataset,SequentialSampler,RandomSampler\n",
    "import numpy as np\n",
    "\n",
    "# train\n",
    "train_seq = tensor(np.array(seqembed.loc[train[\"seq\"]])).to(torch.float32)\n",
    "train_mol = tensor(np.array(molembed.loc[train[\"mol\"]])).to(torch.float32)\n",
    "train_classify = tensor(np.array(train[\"pkd\"].map(lambda x : 1 if x >= CLASSIFYBOUND else 0))).to(torch.float32)\n",
    "\n",
    "trainDataset = TensorDataset(train_mol,train_seq,train_classify)\n",
    "trainDataLoader = DataLoader(trainDataset, batch_size=256)\n",
    "\n",
    "#test\n",
    "test_seq = tensor(np.array(seqembed.loc[test[\"seq\"]])).to(torch.float32)\n",
    "test_mol = tensor(np.array(molembed.loc[test[\"mol\"]])).to(torch.float32)\n",
    "test_classify = tensor(np.array(test[\"pkd\"].map(lambda x : 1 if x >= CLASSIFYBOUND else 0))).to(torch.float32)\n",
    "\n",
    "testDataset = TensorDataset(test_mol,test_seq,test_classify)\n",
    "testDataLoader = DataLoader(testDataset, batch_size=256)"
   ]
  },
  {
   "cell_type": "code",
   "execution_count": 24,
   "metadata": {},
   "outputs": [
    {
     "data": {
      "text/plain": [
       "torch.Size([256, 300])"
      ]
     },
     "execution_count": 24,
     "metadata": {},
     "output_type": "execute_result"
    }
   ],
   "source": [
    "# test dataset\n",
    "next(iter(testDataLoader))[0].shape"
   ]
  },
  {
   "cell_type": "code",
   "execution_count": 10,
   "metadata": {},
   "outputs": [],
   "source": [
    "from torch.nn import Module\n",
    "from torch import nn\n",
    "import torch.nn.functional as F\n",
    "import torch"
   ]
  },
  {
   "cell_type": "code",
   "execution_count": 19,
   "metadata": {},
   "outputs": [],
   "source": [
    "class resBlock(nn.Module):\n",
    "    def __init__(self, in_channels, out_channels, use_conv1=False, strides=1, dropout=0.3):\n",
    "        super().__init__()\n",
    "        \n",
    "        self.process = nn.Sequential (\n",
    "            nn.Conv1d(in_channels, out_channels, kernel_size=3, stride=strides, padding=1),\n",
    "            nn.BatchNorm1d(out_channels),\n",
    "            nn.ReLU(inplace=True),\n",
    "            nn.Dropout(p=dropout),\n",
    "            nn.Conv1d(out_channels, out_channels, kernel_size=3, padding=1),\n",
    "            nn.BatchNorm1d(out_channels)\n",
    "        )\n",
    "        \n",
    "        if use_conv1:\n",
    "            self.conv1 = nn.Conv1d(in_channels, out_channels, kernel_size=1, stride=strides)\n",
    "        else:\n",
    "            self.conv1 = None\n",
    "        \n",
    "    def forward(self, x):\n",
    "        left = self.process(x)\n",
    "        right = x if self.conv1 is None else self.conv1(x)\n",
    "        \n",
    "        return F.relu(left + right)"
   ]
  },
  {
   "cell_type": "code",
   "execution_count": 33,
   "metadata": {},
   "outputs": [
    {
     "data": {
      "text/plain": [
       "torch.Size([256, 32, 300])"
      ]
     },
     "execution_count": 33,
     "metadata": {},
     "output_type": "execute_result"
    }
   ],
   "source": [
    "test = resBlock(32,32)\n",
    "test(torch.randn(256,32,300)).shape"
   ]
  },
  {
   "cell_type": "code",
   "execution_count": 38,
   "metadata": {},
   "outputs": [],
   "source": [
    "class cnnModule(nn.Module):\n",
    "    def __init__(self, in_channel, out_channel, hidden_channel=32, dropout=0.3):\n",
    "        super().__init__()\n",
    "        \n",
    "        self.head = nn.Sequential (\n",
    "            nn.Conv1d(in_channel, hidden_channel, 7, stride=2, padding=3, bias=False),\n",
    "            nn.BatchNorm1d(hidden_channel),\n",
    "            nn.ReLU(inplace=True),\n",
    "            nn.Dropout(p=dropout),\n",
    "            nn.MaxPool1d(2)\n",
    "        )\n",
    "        \n",
    "        self.cnn = nn.Sequential (\n",
    "            resBlock(hidden_channel, out_channel, use_conv1=True, strides=1),\n",
    "            resBlock(out_channel, out_channel, strides=1),\n",
    "            resBlock(out_channel, out_channel, strides=1),\n",
    "        )\n",
    "    \n",
    "    def forward(self, x):\n",
    "        x = self.head(x)\n",
    "        x = self.cnn(x)\n",
    "        \n",
    "        return x"
   ]
  },
  {
   "cell_type": "code",
   "execution_count": 89,
   "metadata": {},
   "outputs": [
    {
     "data": {
      "text/plain": [
       "torch.Size([256, 16, 100])"
      ]
     },
     "execution_count": 89,
     "metadata": {},
     "output_type": "execute_result"
    }
   ],
   "source": [
    "test = cnnModule(1,16)\n",
    "test(torch.randn(256,1,400)).shape"
   ]
  },
  {
   "cell_type": "code",
   "execution_count": 100,
   "metadata": {},
   "outputs": [],
   "source": [
    "class DeepLPI(nn.Module):\n",
    "    def __init__(self, molshape, seqshape, dropout=0.3):\n",
    "        super().__init__()\n",
    "        \n",
    "        self.molshape = molshape\n",
    "        self.seqshape = seqshape\n",
    "\n",
    "        self.molcnn = cnnModule(1,16)\n",
    "        self.seqcnn = cnnModule(1,16)\n",
    "        \n",
    "        self.pool = nn.AvgPool1d(5, stride = 3)\n",
    "        self.lstm = nn.LSTM(round((((molshape+seqshape)/4)-2)/3), 64, num_layers=2, batch_first=True, bidirectional=True)\n",
    "        \n",
    "        self.mlp = nn.Sequential (\n",
    "            nn.Linear(2048, 512),\n",
    "            nn.BatchNorm1d(512),\n",
    "            nn.ReLU(),\n",
    "            nn.Dropout(p=dropout),\n",
    "            \n",
    "            nn.Linear(512, 32),\n",
    "            nn.BatchNorm1d(32),\n",
    "            nn.ReLU(),\n",
    "            nn.Dropout(p=0.2),\n",
    "            \n",
    "            nn.Linear(32, 2),\n",
    "            nn.Softmax()\n",
    "        )\n",
    "\n",
    "    def forward(self, mol, seq):\n",
    "        mol = self.molcnn(mol.reshape(-1,1,self.molshape))\n",
    "        seq = self.seqcnn(seq.reshape(-1,1,self.seqshape))\n",
    "        \n",
    "        # put data into lstm        \n",
    "        x = torch.cat((mol,seq),2)\n",
    "        x = self.pool(x)\n",
    "        x,_ = self.lstm(x)\n",
    "        \n",
    "        # fully connect layer\n",
    "        x = self.mlp(x.flatten(1))\n",
    "        x = x[:,0]\n",
    "        \n",
    "        return x"
   ]
  },
  {
   "cell_type": "code",
   "execution_count": 104,
   "metadata": {},
   "outputs": [
    {
     "name": "stderr",
     "output_type": "stream",
     "text": [
      "/home/wbm001/miniconda3/envs/DeepPurpose/lib/python3.6/site-packages/torch/nn/modules/container.py:100: UserWarning: Implicit dimension choice for softmax has been deprecated. Change the call to include dim=X as an argument.\n",
      "  input = module(input)\n"
     ]
    },
    {
     "data": {
      "text/plain": [
       "torch.Size([128])"
      ]
     },
     "execution_count": 104,
     "metadata": {},
     "output_type": "execute_result"
    }
   ],
   "source": [
    "model = DeepLPI(300,6165)\n",
    "model(torch.randn(128,300),torch.randn(128,6165)).shape"
   ]
  },
  {
   "cell_type": "code",
   "execution_count": null,
   "metadata": {},
   "outputs": [],
   "source": []
  }
 ],
 "metadata": {
  "kernelspec": {
   "display_name": "Python 3.6.13 ('DeepPurpose')",
   "language": "python",
   "name": "python3"
  },
  "language_info": {
   "codemirror_mode": {
    "name": "ipython",
    "version": 3
   },
   "file_extension": ".py",
   "mimetype": "text/x-python",
   "name": "python",
   "nbconvert_exporter": "python",
   "pygments_lexer": "ipython3",
   "version": "3.6.13"
  },
  "orig_nbformat": 4,
  "vscode": {
   "interpreter": {
    "hash": "f923ce3d9a6c852fa4277c7633c15be33e3c2fd747753029b4f9b6323264f49d"
   }
  }
 },
 "nbformat": 4,
 "nbformat_minor": 2
}
