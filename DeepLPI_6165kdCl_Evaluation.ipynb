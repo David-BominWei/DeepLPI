{
 "cells": [
  {
   "cell_type": "code",
   "execution_count": 1,
   "metadata": {},
   "outputs": [],
   "source": [
    "model_path = \"/home/wbm001/deeplpi/DeepLPI/output/model/v9b0e901.pth.tar\"\n",
    "test_path = \"/home/wbm001/deeplpi/DeepLPI/data/kd_test.csv\"\n",
    "plot_path = \"/home/wbm001/deeplpi/DeepLPI/output/plot/\"\n",
    "\n",
    "molembed_path = \"/home/wbm001/deeplpi/DeepLPI/data/mol_embed.csv\"\n",
    "seqembed_path = \"/home/wbm001/deeplpi/DeepLPI/data/seq_embed.csv\"\n",
    "\n",
    "RAMDOMSEED = 11\n",
    "CLASSIFYBOUND = -2"
   ]
  },
  {
   "cell_type": "code",
   "execution_count": 2,
   "metadata": {},
   "outputs": [],
   "source": [
    "from torch.nn import Module\n",
    "from torch import nn\n",
    "import torch.nn.functional as F\n",
    "import torch\n",
    "\n",
    "class resBlock(nn.Module):\n",
    "    def __init__(self, in_channels, out_channels, use_conv1=False, strides=1, dropout=0.3):\n",
    "        super().__init__()\n",
    "        \n",
    "        self.process = nn.Sequential (\n",
    "            nn.Conv1d(in_channels, out_channels, kernel_size=3, stride=strides, padding=1),\n",
    "            nn.BatchNorm1d(out_channels),\n",
    "            nn.ReLU(inplace=True),\n",
    "            nn.Dropout(p=dropout),\n",
    "            nn.Conv1d(out_channels, out_channels, kernel_size=3, padding=1),\n",
    "            nn.BatchNorm1d(out_channels)\n",
    "        )\n",
    "        \n",
    "        if use_conv1:\n",
    "            self.conv1 = nn.Conv1d(in_channels, out_channels, kernel_size=1, stride=strides)\n",
    "        else:\n",
    "            self.conv1 = None\n",
    "        \n",
    "    def forward(self, x):\n",
    "        left = self.process(x)\n",
    "        right = x if self.conv1 is None else self.conv1(x)\n",
    "        \n",
    "        return F.relu(left + right)\n",
    "\n",
    "class cnnModule(nn.Module):\n",
    "    def __init__(self, in_channel, out_channel, hidden_channel=32, dropout=0.3):\n",
    "        super().__init__()\n",
    "        \n",
    "        self.head = nn.Sequential (\n",
    "            nn.Conv1d(in_channel, hidden_channel, 7, stride=2, padding=3, bias=False),\n",
    "            nn.BatchNorm1d(hidden_channel),\n",
    "            nn.ReLU(inplace=True),\n",
    "            nn.Dropout(p=dropout),\n",
    "            nn.MaxPool1d(2)\n",
    "        )\n",
    "        \n",
    "        self.cnn = nn.Sequential (\n",
    "            resBlock(hidden_channel, out_channel, use_conv1=True, strides=1),\n",
    "            resBlock(out_channel, out_channel, strides=1),\n",
    "            resBlock(out_channel, out_channel, strides=1),\n",
    "        )\n",
    "    \n",
    "    def forward(self, x):\n",
    "        x = self.head(x)\n",
    "        x = self.cnn(x)\n",
    "        \n",
    "        return x\n",
    "\n",
    "class DeepLPI(nn.Module):\n",
    "    def __init__(self, molshape, seqshape, dropout=0.3):\n",
    "        super().__init__()\n",
    "        \n",
    "        self.molshape = molshape\n",
    "        self.seqshape = seqshape\n",
    "\n",
    "        self.molcnn = cnnModule(1,16)\n",
    "        self.seqcnn = cnnModule(1,16)\n",
    "        \n",
    "        self.pool = nn.AvgPool1d(5, stride = 3)\n",
    "        self.lstm = nn.LSTM(round((((molshape+seqshape)/4)-2)/3), 64, num_layers=2, batch_first=True, bidirectional=True)\n",
    "        \n",
    "        self.mlp = nn.Sequential (\n",
    "            nn.Linear(2048, 512),\n",
    "            nn.BatchNorm1d(512),\n",
    "            nn.ReLU(),\n",
    "            nn.Dropout(p=dropout),\n",
    "            \n",
    "            nn.Linear(512, 32),\n",
    "            nn.BatchNorm1d(32),\n",
    "            nn.ReLU(),\n",
    "            nn.Dropout(p=0.2),\n",
    "            \n",
    "            nn.Linear(32, 1),\n",
    "            nn.Sigmoid()\n",
    "        )\n",
    "\n",
    "    def forward(self, mol, seq):\n",
    "        mol = self.molcnn(mol.reshape(-1,1,self.molshape))\n",
    "        seq = self.seqcnn(seq.reshape(-1,1,self.seqshape))\n",
    "        \n",
    "        # put data into lstm        \n",
    "        x = torch.cat((mol,seq),2)\n",
    "        x = self.pool(x)\n",
    "        x,_ = self.lstm(x)\n",
    "        \n",
    "        # fully connect layer\n",
    "        x = self.mlp(x.flatten(1))\n",
    "        x = x.flatten()\n",
    "        \n",
    "        return x\n"
   ]
  },
  {
   "cell_type": "code",
   "execution_count": 3,
   "metadata": {},
   "outputs": [
    {
     "data": {
      "text/plain": [
       "<All keys matched successfully>"
      ]
     },
     "execution_count": 3,
     "metadata": {},
     "output_type": "execute_result"
    }
   ],
   "source": [
    "model = DeepLPI(300,6165)\n",
    "model.load_state_dict(torch.load(model_path)['state_dict'])"
   ]
  },
  {
   "cell_type": "code",
   "execution_count": 4,
   "metadata": {},
   "outputs": [],
   "source": [
    "import pandas as pd\n",
    "\n",
    "seqembed = pd.read_csv(seqembed_path,header=None)\n",
    "molembed = pd.read_csv(molembed_path,)\n",
    "test = pd.read_csv(test_path)"
   ]
  },
  {
   "cell_type": "code",
   "execution_count": 5,
   "metadata": {},
   "outputs": [
    {
     "data": {
      "text/html": [
       "<div>\n",
       "<style scoped>\n",
       "    .dataframe tbody tr th:only-of-type {\n",
       "        vertical-align: middle;\n",
       "    }\n",
       "\n",
       "    .dataframe tbody tr th {\n",
       "        vertical-align: top;\n",
       "    }\n",
       "\n",
       "    .dataframe thead th {\n",
       "        text-align: right;\n",
       "    }\n",
       "</style>\n",
       "<table border=\"1\" class=\"dataframe\">\n",
       "  <thead>\n",
       "    <tr style=\"text-align: right;\">\n",
       "      <th></th>\n",
       "      <th>BindingDB Reactant_set_id</th>\n",
       "      <th>mol</th>\n",
       "      <th>seq</th>\n",
       "      <th>pkd</th>\n",
       "      <th>unseen</th>\n",
       "    </tr>\n",
       "  </thead>\n",
       "  <tbody>\n",
       "    <tr>\n",
       "      <th>12</th>\n",
       "      <td>24198</td>\n",
       "      <td>131412</td>\n",
       "      <td>100</td>\n",
       "      <td>0.397940</td>\n",
       "      <td>none</td>\n",
       "    </tr>\n",
       "    <tr>\n",
       "      <th>25</th>\n",
       "      <td>24222</td>\n",
       "      <td>112438</td>\n",
       "      <td>100</td>\n",
       "      <td>-0.602060</td>\n",
       "      <td>none</td>\n",
       "    </tr>\n",
       "    <tr>\n",
       "      <th>44</th>\n",
       "      <td>24247</td>\n",
       "      <td>72471</td>\n",
       "      <td>3680</td>\n",
       "      <td>-4.000000</td>\n",
       "      <td>none</td>\n",
       "    </tr>\n",
       "    <tr>\n",
       "      <th>45</th>\n",
       "      <td>24248</td>\n",
       "      <td>72471</td>\n",
       "      <td>1783</td>\n",
       "      <td>-3.845098</td>\n",
       "      <td>none</td>\n",
       "    </tr>\n",
       "    <tr>\n",
       "      <th>55</th>\n",
       "      <td>38947</td>\n",
       "      <td>45548</td>\n",
       "      <td>3235</td>\n",
       "      <td>-4.869232</td>\n",
       "      <td>none</td>\n",
       "    </tr>\n",
       "    <tr>\n",
       "      <th>...</th>\n",
       "      <td>...</td>\n",
       "      <td>...</td>\n",
       "      <td>...</td>\n",
       "      <td>...</td>\n",
       "      <td>...</td>\n",
       "    </tr>\n",
       "    <tr>\n",
       "      <th>13334</th>\n",
       "      <td>51340415</td>\n",
       "      <td>96126</td>\n",
       "      <td>2444</td>\n",
       "      <td>-3.397940</td>\n",
       "      <td>none</td>\n",
       "    </tr>\n",
       "    <tr>\n",
       "      <th>13335</th>\n",
       "      <td>51342252</td>\n",
       "      <td>60836</td>\n",
       "      <td>2762</td>\n",
       "      <td>-3.000000</td>\n",
       "      <td>none</td>\n",
       "    </tr>\n",
       "    <tr>\n",
       "      <th>13336</th>\n",
       "      <td>51342274</td>\n",
       "      <td>99239</td>\n",
       "      <td>2500</td>\n",
       "      <td>-1.380211</td>\n",
       "      <td>none</td>\n",
       "    </tr>\n",
       "    <tr>\n",
       "      <th>13356</th>\n",
       "      <td>51343146</td>\n",
       "      <td>113538</td>\n",
       "      <td>2444</td>\n",
       "      <td>-4.778151</td>\n",
       "      <td>none</td>\n",
       "    </tr>\n",
       "    <tr>\n",
       "      <th>13363</th>\n",
       "      <td>51348695</td>\n",
       "      <td>154969</td>\n",
       "      <td>3677</td>\n",
       "      <td>-3.120574</td>\n",
       "      <td>none</td>\n",
       "    </tr>\n",
       "  </tbody>\n",
       "</table>\n",
       "<p>2500 rows × 5 columns</p>\n",
       "</div>"
      ],
      "text/plain": [
       "       BindingDB Reactant_set_id     mol   seq       pkd unseen\n",
       "12                         24198  131412   100  0.397940   none\n",
       "25                         24222  112438   100 -0.602060   none\n",
       "44                         24247   72471  3680 -4.000000   none\n",
       "45                         24248   72471  1783 -3.845098   none\n",
       "55                         38947   45548  3235 -4.869232   none\n",
       "...                          ...     ...   ...       ...    ...\n",
       "13334                   51340415   96126  2444 -3.397940   none\n",
       "13335                   51342252   60836  2762 -3.000000   none\n",
       "13336                   51342274   99239  2500 -1.380211   none\n",
       "13356                   51343146  113538  2444 -4.778151   none\n",
       "13363                   51348695  154969  3677 -3.120574   none\n",
       "\n",
       "[2500 rows x 5 columns]"
      ]
     },
     "execution_count": 5,
     "metadata": {},
     "output_type": "execute_result"
    }
   ],
   "source": [
    "test.loc[test[\"unseen\"]==\"none\"]"
   ]
  },
  {
   "cell_type": "code",
   "execution_count": 6,
   "metadata": {},
   "outputs": [],
   "source": [
    "import numpy as np\n",
    "from torch import tensor\n",
    "\n",
    "molembed = molembed.set_index(\"0\")\n",
    "test[\"exist\"] = test[\"mol\"].map(lambda x : 1 if x in molembed.index.values else None)\n",
    "test = test.dropna()\n",
    "\n",
    "def gettest(unseen):\n",
    "    test_seq = tensor(np.array(seqembed.loc[test.loc[test[\"unseen\"]==unseen][\"seq\"]])).to(torch.float32)\n",
    "    test_mol = tensor(np.array(molembed.loc[test.loc[test[\"unseen\"]==unseen][\"mol\"]])).to(torch.float32)\n",
    "    test_label = tensor(np.array(test.loc[test[\"unseen\"]==unseen][\"pkd\"].map(lambda x : 1 if x >= CLASSIFYBOUND else 0))).to(torch.float32)\n",
    "\n",
    "    return test_mol, test_seq, test_label"
   ]
  },
  {
   "cell_type": "code",
   "execution_count": 7,
   "metadata": {},
   "outputs": [],
   "source": [
    "unseenmol_mol, unseenmol_seq, unseenmol_lab = gettest(\"mol\")\n",
    "unseenseq_mol, unseenseq_seq, unseenseq_lab = gettest(\"seq\")\n",
    "unseenboth_mol, unseenboth_seq, unseenboth_lab = gettest(\"both\")\n",
    "unseennone_mol, unseennone_seq, unseennone_lab = gettest(\"none\")"
   ]
  },
  {
   "cell_type": "code",
   "execution_count": 8,
   "metadata": {},
   "outputs": [],
   "source": [
    "def dotest(model,test_mol,test_seq):\n",
    "    model = model.eval()\n",
    "    with torch.no_grad():\n",
    "        logits = model(test_mol,test_seq)\n",
    "    logits = np.array(logits)\n",
    "    return logits"
   ]
  },
  {
   "cell_type": "code",
   "execution_count": 9,
   "metadata": {},
   "outputs": [],
   "source": [
    "from sklearn.metrics import roc_auc_score, accuracy_score\n",
    "\n",
    "unseenboth_pred = dotest(model,unseenboth_mol,unseenboth_seq)\n",
    "unseenmol_pred = dotest(model,unseenmol_mol,unseenmol_seq)\n",
    "unseenseq_pred = dotest(model,unseenseq_mol,unseenseq_seq)\n",
    "unseennone_pred = dotest(model,unseennone_mol,unseennone_seq)"
   ]
  },
  {
   "cell_type": "code",
   "execution_count": 10,
   "metadata": {},
   "outputs": [
    {
     "name": "stdout",
     "output_type": "stream",
     "text": [
      "unseenboth auroc: 0.7145214521452145\n",
      "unseenmol auroc: 0.7929689859018455\n",
      "unseenseq auroc: 0.8381096017652593\n",
      "unseennone auroc: 0.9223797634590862\n"
     ]
    }
   ],
   "source": [
    "print(\"unseenboth auroc: \" + str(roc_auc_score(unseenboth_lab,unseenboth_pred)))\n",
    "print(\"unseenmol auroc: \" + str(roc_auc_score(unseenmol_lab,unseenmol_pred)))\n",
    "print(\"unseenseq auroc: \" + str(roc_auc_score(unseenseq_lab,unseenseq_pred)))\n",
    "print(\"unseennone auroc: \" + str(roc_auc_score(unseennone_lab,unseennone_pred)))"
   ]
  },
  {
   "cell_type": "code",
   "execution_count": 11,
   "metadata": {},
   "outputs": [],
   "source": [
    "from matplotlib import pyplot as plt\n",
    "\n",
    "auroc = {\"unseenboth\" : roc_auc_score(unseenboth_lab,unseenboth_pred),\n",
    "        \"unseenmol\" : roc_auc_score(unseenmol_lab,unseenmol_pred),\n",
    "        \"unseenseq\" : roc_auc_score(unseenseq_lab,unseenseq_pred),\n",
    "        \"unseennone\" : roc_auc_score(unseennone_lab,unseennone_pred)}\n",
    "\n",
    "plt.figure(figsize = (6,4))\n",
    "plt.ylim(0,1)\n",
    "plt.bar(auroc.keys(), auroc.values(), width=0.5, color=\"dimgray\")\n",
    "for i,key in enumerate(auroc.keys()):\n",
    "    plt.text(key, auroc[key]+0.02, str(format(auroc[key], '.2f')), ha=\"center\")\n",
    "plt.savefig(plot_path+\"test_auroc_bar.svg\", dpi=200)"
   ]
  },
  {
   "cell_type": "code",
   "execution_count": 30,
   "metadata": {},
   "outputs": [],
   "source": [
    "import numpy as np\n",
    "import matplotlib.pyplot as plt\n",
    "import matplotlib as mpl\n",
    "from matplotlib.colors import ListedColormap, LinearSegmentedColormap"
   ]
  },
  {
   "cell_type": "code",
   "execution_count": 56,
   "metadata": {},
   "outputs": [
    {
     "data": {
      "image/png": "[encoded data removed]",
      "text/plain": [
       "<Figure size 216x216 with 2 Axes>"
      ]
     },
     "metadata": {
      "needs_background": "light"
     },
     "output_type": "display_data"
    }
   ],
   "source": [
    "from mlxtend.plotting import plot_confusion_matrix\n",
    "from mlxtend.evaluate import confusion_matrix\n",
    "\n",
    "cmap = LinearSegmentedColormap.from_list(\"mycmap\", [\"#DEC0F0\", \"#9800F0\"])\n",
    "plot_confusion_matrix(confusion_matrix(unseenmol_lab==1, unseenmol_pred>=0.5), figsize=(3,3), show_absolute=True, show_normed=True, cmap=cmap, colorbar=True, fontcolor_threshold=0.8)\n",
    "plt.title(\"Mol Unseen\")\n",
    "plt.savefig(plot_path + \"unseenmol_confusion_mat.svg\", dpi=200)"
   ]
  },
  {
   "cell_type": "code",
   "execution_count": 57,
   "metadata": {},
   "outputs": [
    {
     "data": {
      "image/png": "[encoded data removed]",
      "text/plain": [
       "<Figure size 216x216 with 2 Axes>"
      ]
     },
     "metadata": {
      "needs_background": "light"
     },
     "output_type": "display_data"
    }
   ],
   "source": [
    "cmap = LinearSegmentedColormap.from_list(\"mycmap\", [\"#F0DCD1\", \"#F05C00\"])\n",
    "plot_confusion_matrix(confusion_matrix(unseenseq_lab==1, unseenseq_pred>=0.5), show_absolute=True, figsize=(3,3), show_normed=True, cmap=cmap, colorbar=True, fontcolor_threshold=0.8)\n",
    "plt.title(\"Seq Unseen\")\n",
    "plt.savefig(plot_path + \"unseenseq_confusion_mat.svg\", dpi=200)"
   ]
  },
  {
   "cell_type": "code",
   "execution_count": 58,
   "metadata": {},
   "outputs": [
    {
     "data": {
      "image/png": "[encoded data removed]",
      "text/plain": [
       "<Figure size 216x216 with 2 Axes>"
      ]
     },
     "metadata": {
      "needs_background": "light"
     },
     "output_type": "display_data"
    }
   ],
   "source": [
    "cmap = LinearSegmentedColormap.from_list(\"mycmap\", [\"#F9FFDE\", \"#9ABD00\"])\n",
    "plot_confusion_matrix(confusion_matrix(unseennone_lab==1, unseennone_pred>=0.5), show_absolute=True, figsize=(3,3), show_normed=True, cmap=cmap, colorbar=True, fontcolor_threshold=0.8)\n",
    "plt.title(\"None Unseen\")\n",
    "plt.savefig(plot_path + \"unseennone_confusion_mat.svg\", dpi=200)"
   ]
  },
  {
   "cell_type": "code",
   "execution_count": 59,
   "metadata": {},
   "outputs": [
    {
     "data": {
      "image/png": "[encoded data removed]",
      "text/plain": [
       "<Figure size 216x216 with 2 Axes>"
      ]
     },
     "metadata": {
      "needs_background": "light"
     },
     "output_type": "display_data"
    }
   ],
   "source": [
    "cmap = LinearSegmentedColormap.from_list(\"mycmap\", [\"#B8FDFF\", \"#00BEC4\"])\n",
    "plot_confusion_matrix(confusion_matrix(unseenboth_lab==1, unseenboth_pred>=0.5), figsize=(3,3), show_absolute=True, show_normed=True, cmap=cmap, colorbar=True, fontcolor_threshold=0.8)\n",
    "plt.title(\"Both Unseen\")\n",
    "plt.savefig(plot_path + \"unseenboth_confusion_mat.svg\", dpi=200)"
   ]
  }
 ],
 "metadata": {
  "kernelspec": {
   "display_name": "Python 3.6.13 ('DeepPurpose')",
   "language": "python",
   "name": "python3"
  },
  "language_info": {
   "codemirror_mode": {
    "name": "ipython",
    "version": 3
   },
   "file_extension": ".py",
   "mimetype": "text/x-python",
   "name": "python",
   "nbconvert_exporter": "python",
   "pygments_lexer": "ipython3",
   "version": "3.6.13"
  },
  "orig_nbformat": 4,
  "vscode": {
   "interpreter": {
    "hash": "f923ce3d9a6c852fa4277c7633c15be33e3c2fd747753029b4f9b6323264f49d"
   }
  }
 },
 "nbformat": 4,
 "nbformat_minor": 2
}
